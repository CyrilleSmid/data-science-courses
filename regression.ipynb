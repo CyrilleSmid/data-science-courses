{
 "cells": [
  {
   "cell_type": "code",
   "execution_count": 1,
   "metadata": {},
   "outputs": [
    {
     "data": {
      "text/html": [
       "        <script type=\"text/javascript\">\n",
       "        window.PlotlyConfig = {MathJaxConfig: 'local'};\n",
       "        if (window.MathJax && window.MathJax.Hub && window.MathJax.Hub.Config) {window.MathJax.Hub.Config({SVG: {font: \"STIX-Web\"}});}\n",
       "        if (typeof require !== 'undefined') {\n",
       "        require.undef(\"plotly\");\n",
       "        requirejs.config({\n",
       "            paths: {\n",
       "                'plotly': ['https://cdn.plot.ly/plotly-2.12.1.min']\n",
       "            }\n",
       "        });\n",
       "        require(['plotly'], function(Plotly) {\n",
       "            window._Plotly = Plotly;\n",
       "        });\n",
       "        }\n",
       "        </script>\n",
       "        "
      ]
     },
     "metadata": {},
     "output_type": "display_data"
    }
   ],
   "source": [
    "import os, shutil\n",
    "import numpy as np\n",
    "import pandas as pd\n",
    "from keras.datasets import mnist\n",
    "from keras import models, layers, optimizers\n",
    "from keras.preprocessing.image import ImageDataGenerator\n",
    "import tensorflow as tf\n",
    "\n",
    "from keras.utils import to_categorical, load_img, img_to_array, array_to_img\n",
    "from sklearn.model_selection import train_test_split\n",
    "from keras import backend as K\n",
    "\n",
    "import matplotlib.pyplot as plt\n",
    "\n",
    "import plotly.express as px\n",
    "import plotly.graph_objects as go\n",
    "from plotly.offline import init_notebook_mode\n",
    "init_notebook_mode(connected = True)"
   ]
  },
  {
   "attachments": {},
   "cell_type": "markdown",
   "metadata": {},
   "source": [
    "#### House Pricing"
   ]
  },
  {
   "cell_type": "code",
   "execution_count": 2,
   "metadata": {},
   "outputs": [],
   "source": [
    "from keras.datasets import boston_housing"
   ]
  },
  {
   "cell_type": "code",
   "execution_count": 3,
   "metadata": {},
   "outputs": [],
   "source": [
    "(train_data, train_targets), (test_data, test_targets) = \\\n",
    "    boston_housing.load_data()"
   ]
  },
  {
   "cell_type": "code",
   "execution_count": 4,
   "metadata": {},
   "outputs": [],
   "source": [
    "mean = train_data.mean(axis=0)\n",
    "train_data -= mean\n",
    "std = train_data.std(axis=0)\n",
    "train_data /= std\n",
    "test_data -= mean\n",
    "test_data /= std"
   ]
  },
  {
   "cell_type": "code",
   "execution_count": 5,
   "metadata": {},
   "outputs": [],
   "source": [
    "train_data, val_data, train_targets, val_targets = train_test_split(\n",
    "    train_data, train_targets, test_size=0.25) "
   ]
  },
  {
   "cell_type": "code",
   "execution_count": 6,
   "metadata": {},
   "outputs": [
    {
     "data": {
      "text/plain": [
       "((303, 13), (101, 13))"
      ]
     },
     "execution_count": 6,
     "metadata": {},
     "output_type": "execute_result"
    }
   ],
   "source": [
    "train_data.shape, val_data.shape"
   ]
  },
  {
   "cell_type": "code",
   "execution_count": 7,
   "metadata": {},
   "outputs": [],
   "source": [
    "def build_model():\n",
    "    model = models.Sequential()\n",
    "    model.add(layers.Dense(64, activation='relu',\n",
    "                           input_shape=(train_data.shape[1],)))\n",
    "    model.add(layers.Dense(64, activation='relu'))\n",
    "    model.add(layers.Dense(1))\n",
    "    model.compile(optimizer='rmsprop', loss='mse', metrics=['mae'])\n",
    "    return model"
   ]
  },
  {
   "cell_type": "code",
   "execution_count": 12,
   "metadata": {},
   "outputs": [
    {
     "name": "stdout",
     "output_type": "stream",
     "text": [
      "Epoch 1/80\n",
      "19/19 [==============================] - 2s 21ms/step - loss: 499.3076 - mae: 20.4225 - val_loss: 393.7769 - val_mae: 18.3700\n",
      "Epoch 2/80\n",
      "19/19 [==============================] - 0s 7ms/step - loss: 356.0129 - mae: 16.8792 - val_loss: 249.8304 - val_mae: 14.3094\n",
      "Epoch 3/80\n",
      "19/19 [==============================] - 0s 7ms/step - loss: 207.4306 - mae: 12.3210 - val_loss: 126.4600 - val_mae: 9.7938\n",
      "Epoch 4/80\n",
      "19/19 [==============================] - 0s 7ms/step - loss: 103.5346 - mae: 8.1277 - val_loss: 60.8776 - val_mae: 6.6089\n",
      "Epoch 5/80\n",
      "19/19 [==============================] - 0s 5ms/step - loss: 56.7229 - mae: 5.6838 - val_loss: 37.2532 - val_mae: 4.9349\n",
      "Epoch 6/80\n",
      "19/19 [==============================] - 0s 5ms/step - loss: 38.5712 - mae: 4.5441 - val_loss: 25.4592 - val_mae: 4.0780\n",
      "Epoch 7/80\n",
      "19/19 [==============================] - 0s 5ms/step - loss: 30.0832 - mae: 3.8343 - val_loss: 20.3774 - val_mae: 3.5522\n",
      "Epoch 8/80\n",
      "19/19 [==============================] - 0s 6ms/step - loss: 25.5110 - mae: 3.4793 - val_loss: 17.8242 - val_mae: 3.3548\n",
      "Epoch 9/80\n",
      "19/19 [==============================] - 0s 7ms/step - loss: 22.5716 - mae: 3.2632 - val_loss: 16.1851 - val_mae: 3.1631\n",
      "Epoch 10/80\n",
      "19/19 [==============================] - 0s 7ms/step - loss: 20.2071 - mae: 3.0664 - val_loss: 14.3669 - val_mae: 2.9381\n",
      "Epoch 11/80\n",
      "19/19 [==============================] - 0s 6ms/step - loss: 18.8184 - mae: 2.9637 - val_loss: 13.4413 - val_mae: 2.8402\n",
      "Epoch 12/80\n",
      "19/19 [==============================] - 0s 6ms/step - loss: 17.3424 - mae: 2.8322 - val_loss: 11.3146 - val_mae: 2.5944\n",
      "Epoch 13/80\n",
      "19/19 [==============================] - 0s 5ms/step - loss: 16.2299 - mae: 2.7792 - val_loss: 12.5095 - val_mae: 2.7208\n",
      "Epoch 14/80\n",
      "19/19 [==============================] - 0s 5ms/step - loss: 15.5532 - mae: 2.7025 - val_loss: 11.1249 - val_mae: 2.5755\n",
      "Epoch 15/80\n",
      "19/19 [==============================] - 0s 7ms/step - loss: 15.0318 - mae: 2.6167 - val_loss: 9.7914 - val_mae: 2.3789\n",
      "Epoch 16/80\n",
      "19/19 [==============================] - 0s 6ms/step - loss: 14.3098 - mae: 2.5981 - val_loss: 10.5365 - val_mae: 2.5089\n",
      "Epoch 17/80\n",
      "19/19 [==============================] - 0s 7ms/step - loss: 13.4257 - mae: 2.5258 - val_loss: 9.0841 - val_mae: 2.3199\n",
      "Epoch 18/80\n",
      "19/19 [==============================] - 0s 6ms/step - loss: 13.2536 - mae: 2.5212 - val_loss: 9.0428 - val_mae: 2.3138\n",
      "Epoch 19/80\n",
      "19/19 [==============================] - 0s 6ms/step - loss: 12.3804 - mae: 2.4153 - val_loss: 8.6283 - val_mae: 2.2741\n",
      "Epoch 20/80\n",
      "19/19 [==============================] - 0s 6ms/step - loss: 12.2055 - mae: 2.4117 - val_loss: 8.3802 - val_mae: 2.2848\n",
      "Epoch 21/80\n",
      "19/19 [==============================] - 0s 5ms/step - loss: 11.6549 - mae: 2.3691 - val_loss: 9.1275 - val_mae: 2.3425\n",
      "Epoch 22/80\n",
      "19/19 [==============================] - 0s 5ms/step - loss: 11.3948 - mae: 2.2945 - val_loss: 8.6300 - val_mae: 2.2811\n",
      "Epoch 23/80\n",
      "19/19 [==============================] - 0s 5ms/step - loss: 11.3026 - mae: 2.3212 - val_loss: 8.7294 - val_mae: 2.3004\n",
      "Epoch 24/80\n",
      "19/19 [==============================] - 0s 6ms/step - loss: 10.9534 - mae: 2.2715 - val_loss: 9.2675 - val_mae: 2.3619\n",
      "Epoch 25/80\n",
      "19/19 [==============================] - 0s 5ms/step - loss: 11.0199 - mae: 2.3047 - val_loss: 8.0032 - val_mae: 2.2736\n",
      "Epoch 26/80\n",
      "19/19 [==============================] - 0s 6ms/step - loss: 10.8488 - mae: 2.2886 - val_loss: 8.1332 - val_mae: 2.2511\n",
      "Epoch 27/80\n",
      "19/19 [==============================] - 0s 6ms/step - loss: 10.4640 - mae: 2.2397 - val_loss: 8.0174 - val_mae: 2.2760\n",
      "Epoch 28/80\n",
      "19/19 [==============================] - 0s 6ms/step - loss: 10.2809 - mae: 2.2272 - val_loss: 7.8068 - val_mae: 2.2400\n",
      "Epoch 29/80\n",
      "19/19 [==============================] - 0s 5ms/step - loss: 10.2910 - mae: 2.2055 - val_loss: 8.3489 - val_mae: 2.2688\n",
      "Epoch 30/80\n",
      "19/19 [==============================] - 0s 12ms/step - loss: 9.9970 - mae: 2.2076 - val_loss: 8.1834 - val_mae: 2.2580\n",
      "Epoch 31/80\n",
      "19/19 [==============================] - 0s 9ms/step - loss: 9.8979 - mae: 2.1832 - val_loss: 7.8253 - val_mae: 2.2381\n",
      "Epoch 32/80\n",
      "19/19 [==============================] - 0s 6ms/step - loss: 9.7334 - mae: 2.1734 - val_loss: 8.0268 - val_mae: 2.2579\n",
      "Epoch 33/80\n",
      "19/19 [==============================] - 0s 7ms/step - loss: 9.5252 - mae: 2.1415 - val_loss: 8.0993 - val_mae: 2.2928\n",
      "Epoch 34/80\n",
      "19/19 [==============================] - 0s 7ms/step - loss: 9.4176 - mae: 2.1614 - val_loss: 8.5142 - val_mae: 2.3087\n",
      "Epoch 35/80\n",
      "19/19 [==============================] - 0s 7ms/step - loss: 9.5883 - mae: 2.1349 - val_loss: 7.7596 - val_mae: 2.2393\n",
      "Epoch 36/80\n",
      "19/19 [==============================] - 0s 5ms/step - loss: 9.1367 - mae: 2.1463 - val_loss: 8.1458 - val_mae: 2.2460\n",
      "Epoch 37/80\n",
      "19/19 [==============================] - 0s 5ms/step - loss: 9.3994 - mae: 2.1122 - val_loss: 7.8540 - val_mae: 2.2411\n",
      "Epoch 38/80\n",
      "19/19 [==============================] - 0s 7ms/step - loss: 9.1531 - mae: 2.0829 - val_loss: 8.3841 - val_mae: 2.3515\n",
      "Epoch 39/80\n",
      "19/19 [==============================] - 0s 7ms/step - loss: 9.2769 - mae: 2.1120 - val_loss: 8.1704 - val_mae: 2.2725\n",
      "Epoch 40/80\n",
      "19/19 [==============================] - 0s 5ms/step - loss: 8.7702 - mae: 2.0364 - val_loss: 8.3124 - val_mae: 2.2791\n",
      "Epoch 41/80\n",
      "19/19 [==============================] - 0s 5ms/step - loss: 8.8069 - mae: 2.0690 - val_loss: 7.8948 - val_mae: 2.2749\n",
      "Epoch 42/80\n",
      "19/19 [==============================] - 0s 5ms/step - loss: 8.8463 - mae: 2.0699 - val_loss: 8.1071 - val_mae: 2.2456\n",
      "Epoch 43/80\n",
      "19/19 [==============================] - 0s 5ms/step - loss: 8.7371 - mae: 2.0382 - val_loss: 7.8278 - val_mae: 2.2182\n",
      "Epoch 44/80\n",
      "19/19 [==============================] - 0s 6ms/step - loss: 8.7692 - mae: 2.0054 - val_loss: 8.5195 - val_mae: 2.2993\n",
      "Epoch 45/80\n",
      "19/19 [==============================] - 0s 7ms/step - loss: 8.6497 - mae: 2.0264 - val_loss: 7.7860 - val_mae: 2.2119\n",
      "Epoch 46/80\n",
      "19/19 [==============================] - 0s 6ms/step - loss: 8.4730 - mae: 2.0145 - val_loss: 8.4036 - val_mae: 2.2728\n",
      "Epoch 47/80\n",
      "19/19 [==============================] - 0s 5ms/step - loss: 8.4935 - mae: 2.0000 - val_loss: 7.7636 - val_mae: 2.2233\n",
      "Epoch 48/80\n",
      "19/19 [==============================] - 0s 5ms/step - loss: 8.5021 - mae: 1.9783 - val_loss: 8.4521 - val_mae: 2.2765\n",
      "Epoch 49/80\n",
      "19/19 [==============================] - 0s 5ms/step - loss: 8.3103 - mae: 2.0170 - val_loss: 7.4640 - val_mae: 2.1775\n",
      "Epoch 50/80\n",
      "19/19 [==============================] - 0s 6ms/step - loss: 8.1120 - mae: 1.9566 - val_loss: 8.4087 - val_mae: 2.3133\n",
      "Epoch 51/80\n",
      "19/19 [==============================] - 0s 5ms/step - loss: 8.1785 - mae: 1.9887 - val_loss: 8.1088 - val_mae: 2.2305\n",
      "Epoch 52/80\n",
      "19/19 [==============================] - 0s 5ms/step - loss: 8.2670 - mae: 1.9806 - val_loss: 7.7747 - val_mae: 2.2291\n",
      "Epoch 53/80\n",
      "19/19 [==============================] - 0s 5ms/step - loss: 7.8602 - mae: 1.9245 - val_loss: 7.8729 - val_mae: 2.2289\n",
      "Epoch 54/80\n",
      "19/19 [==============================] - 0s 5ms/step - loss: 7.9605 - mae: 1.9642 - val_loss: 7.8872 - val_mae: 2.2138\n",
      "Epoch 55/80\n",
      "19/19 [==============================] - 0s 5ms/step - loss: 7.9463 - mae: 1.9195 - val_loss: 7.8728 - val_mae: 2.2087\n",
      "Epoch 56/80\n",
      "19/19 [==============================] - 0s 5ms/step - loss: 7.9693 - mae: 1.9754 - val_loss: 8.2004 - val_mae: 2.2600\n",
      "Epoch 57/80\n",
      "19/19 [==============================] - 0s 5ms/step - loss: 7.6372 - mae: 1.9349 - val_loss: 7.7204 - val_mae: 2.2066\n",
      "Epoch 58/80\n",
      "19/19 [==============================] - 0s 5ms/step - loss: 7.5907 - mae: 1.9208 - val_loss: 8.1716 - val_mae: 2.2347\n",
      "Epoch 59/80\n",
      "19/19 [==============================] - 0s 5ms/step - loss: 7.5520 - mae: 1.9445 - val_loss: 8.1936 - val_mae: 2.3239\n",
      "Epoch 60/80\n",
      "19/19 [==============================] - 0s 5ms/step - loss: 7.6523 - mae: 1.9388 - val_loss: 7.8995 - val_mae: 2.1995\n",
      "Epoch 61/80\n",
      "19/19 [==============================] - 0s 6ms/step - loss: 7.5638 - mae: 1.9245 - val_loss: 7.6806 - val_mae: 2.1732\n",
      "Epoch 62/80\n",
      "19/19 [==============================] - 0s 5ms/step - loss: 7.5209 - mae: 1.8878 - val_loss: 7.7942 - val_mae: 2.2320\n",
      "Epoch 63/80\n",
      "19/19 [==============================] - 0s 6ms/step - loss: 7.2400 - mae: 1.9171 - val_loss: 7.6812 - val_mae: 2.1921\n",
      "Epoch 64/80\n",
      "19/19 [==============================] - 0s 6ms/step - loss: 7.3403 - mae: 1.8632 - val_loss: 8.6483 - val_mae: 2.2723\n",
      "Epoch 65/80\n",
      "19/19 [==============================] - 0s 5ms/step - loss: 7.1079 - mae: 1.8828 - val_loss: 8.1062 - val_mae: 2.1960\n",
      "Epoch 66/80\n",
      "19/19 [==============================] - 0s 5ms/step - loss: 7.0308 - mae: 1.8451 - val_loss: 7.9298 - val_mae: 2.1832\n",
      "Epoch 67/80\n",
      "19/19 [==============================] - 0s 5ms/step - loss: 7.1349 - mae: 1.9011 - val_loss: 8.3072 - val_mae: 2.2170\n",
      "Epoch 68/80\n",
      "19/19 [==============================] - 0s 5ms/step - loss: 7.1601 - mae: 1.9022 - val_loss: 7.7228 - val_mae: 2.1662\n",
      "Epoch 69/80\n",
      "19/19 [==============================] - 0s 5ms/step - loss: 6.7015 - mae: 1.8288 - val_loss: 9.1360 - val_mae: 2.3038\n",
      "Epoch 70/80\n",
      "19/19 [==============================] - 0s 5ms/step - loss: 6.9334 - mae: 1.8681 - val_loss: 8.6028 - val_mae: 2.2520\n",
      "Epoch 71/80\n",
      "19/19 [==============================] - 0s 5ms/step - loss: 6.8938 - mae: 1.8288 - val_loss: 7.8579 - val_mae: 2.1617\n",
      "Epoch 72/80\n",
      "19/19 [==============================] - 0s 5ms/step - loss: 7.0181 - mae: 1.8272 - val_loss: 7.9339 - val_mae: 2.1888\n",
      "Epoch 73/80\n",
      "19/19 [==============================] - 0s 5ms/step - loss: 6.8857 - mae: 1.8278 - val_loss: 7.6386 - val_mae: 2.1675\n",
      "Epoch 74/80\n",
      "19/19 [==============================] - 0s 5ms/step - loss: 6.7754 - mae: 1.8160 - val_loss: 8.0376 - val_mae: 2.1745\n",
      "Epoch 75/80\n",
      "19/19 [==============================] - 0s 5ms/step - loss: 6.7577 - mae: 1.8193 - val_loss: 7.7551 - val_mae: 2.1394\n",
      "Epoch 76/80\n",
      "19/19 [==============================] - 0s 5ms/step - loss: 6.8483 - mae: 1.8185 - val_loss: 7.5573 - val_mae: 2.1217\n",
      "Epoch 77/80\n",
      "19/19 [==============================] - 0s 5ms/step - loss: 6.4943 - mae: 1.7802 - val_loss: 8.3800 - val_mae: 2.2792\n",
      "Epoch 78/80\n",
      "19/19 [==============================] - 0s 5ms/step - loss: 6.4555 - mae: 1.8211 - val_loss: 7.6705 - val_mae: 2.1454\n",
      "Epoch 79/80\n",
      "19/19 [==============================] - 0s 5ms/step - loss: 6.4287 - mae: 1.7856 - val_loss: 7.8601 - val_mae: 2.2221\n",
      "Epoch 80/80\n",
      "19/19 [==============================] - 0s 5ms/step - loss: 6.4242 - mae: 1.7772 - val_loss: 7.6589 - val_mae: 2.1670\n"
     ]
    }
   ],
   "source": [
    "model = build_model()\n",
    "history = model.fit(train_data, train_targets,\n",
    "                    validation_data=(val_data, val_targets),\n",
    "                    epochs = 80, batch_size=16, verbose=1)"
   ]
  },
  {
   "cell_type": "code",
   "execution_count": 13,
   "metadata": {},
   "outputs": [
    {
     "data": {
      "application/vnd.plotly.v1+json": {
       "config": {
        "plotlyServerURL": "https://plot.ly"
       },
       "data": [
        {
         "line": {
          "color": "royalblue",
          "width": 3
         },
         "type": "scatter",
         "y": [
          2.8402225971221924,
          2.692753314971924,
          2.706059104517886,
          2.65184667293842,
          2.547054409415801,
          2.533102836106953,
          2.4576079550155336,
          2.407714674191093,
          2.361989355442962,
          2.335808350716311,
          2.33807205528613,
          2.318942847285484,
          2.312744839577019,
          2.32919182548479,
          2.310606569620036,
          2.290740663949238,
          2.2858149649879036,
          2.270536074311666,
          2.2699452816552212,
          2.2659648328676867,
          2.2566682714084707,
          2.2570798561640655,
          2.268994529784638,
          2.2822298651901454,
          2.267903134490528,
          2.260607795210801,
          2.2540924702335325,
          2.2865558403074018,
          2.281868469958617,
          2.2809429996261796,
          2.2789288843549,
          2.2678048409063574,
          2.2512859908489475,
          2.267279694909797,
          2.2488161267761955,
          2.256819883800605,
          2.245637757687744,
          2.255940110335346,
          2.2297984927858834,
          2.2576358720977865,
          2.248585886232116,
          2.242103302530858,
          2.2377007563076288,
          2.229742722843439,
          2.222714236715078,
          2.23514687451236,
          2.2256430746774996,
          2.228661243241491,
          2.260407251937011,
          2.2401032731100834,
          2.2178036560490972,
          2.222551225948679,
          2.212394078123053,
          2.232365422485154,
          2.2202502442956655,
          2.207893924814794,
          2.2109145832742265,
          2.19602336570099,
          2.2319534757713235,
          2.238623442847364,
          2.212973397704052,
          2.204905140222404,
          2.1924316802429766,
          2.186470185306809,
          2.1707916488826653,
          2.154424841574814,
          2.196013328348323,
          2.1791350821089064,
          2.193446158000593,
          2.18464255242133
         ]
        }
       ],
       "layout": {
        "template": {
         "data": {
          "bar": [
           {
            "error_x": {
             "color": "#2a3f5f"
            },
            "error_y": {
             "color": "#2a3f5f"
            },
            "marker": {
             "line": {
              "color": "#E5ECF6",
              "width": 0.5
             },
             "pattern": {
              "fillmode": "overlay",
              "size": 10,
              "solidity": 0.2
             }
            },
            "type": "bar"
           }
          ],
          "barpolar": [
           {
            "marker": {
             "line": {
              "color": "#E5ECF6",
              "width": 0.5
             },
             "pattern": {
              "fillmode": "overlay",
              "size": 10,
              "solidity": 0.2
             }
            },
            "type": "barpolar"
           }
          ],
          "carpet": [
           {
            "aaxis": {
             "endlinecolor": "#2a3f5f",
             "gridcolor": "white",
             "linecolor": "white",
             "minorgridcolor": "white",
             "startlinecolor": "#2a3f5f"
            },
            "baxis": {
             "endlinecolor": "#2a3f5f",
             "gridcolor": "white",
             "linecolor": "white",
             "minorgridcolor": "white",
             "startlinecolor": "#2a3f5f"
            },
            "type": "carpet"
           }
          ],
          "choropleth": [
           {
            "colorbar": {
             "outlinewidth": 0,
             "ticks": ""
            },
            "type": "choropleth"
           }
          ],
          "contour": [
           {
            "colorbar": {
             "outlinewidth": 0,
             "ticks": ""
            },
            "colorscale": [
             [
              0,
              "#0d0887"
             ],
             [
              0.1111111111111111,
              "#46039f"
             ],
             [
              0.2222222222222222,
              "#7201a8"
             ],
             [
              0.3333333333333333,
              "#9c179e"
             ],
             [
              0.4444444444444444,
              "#bd3786"
             ],
             [
              0.5555555555555556,
              "#d8576b"
             ],
             [
              0.6666666666666666,
              "#ed7953"
             ],
             [
              0.7777777777777778,
              "#fb9f3a"
             ],
             [
              0.8888888888888888,
              "#fdca26"
             ],
             [
              1,
              "#f0f921"
             ]
            ],
            "type": "contour"
           }
          ],
          "contourcarpet": [
           {
            "colorbar": {
             "outlinewidth": 0,
             "ticks": ""
            },
            "type": "contourcarpet"
           }
          ],
          "heatmap": [
           {
            "colorbar": {
             "outlinewidth": 0,
             "ticks": ""
            },
            "colorscale": [
             [
              0,
              "#0d0887"
             ],
             [
              0.1111111111111111,
              "#46039f"
             ],
             [
              0.2222222222222222,
              "#7201a8"
             ],
             [
              0.3333333333333333,
              "#9c179e"
             ],
             [
              0.4444444444444444,
              "#bd3786"
             ],
             [
              0.5555555555555556,
              "#d8576b"
             ],
             [
              0.6666666666666666,
              "#ed7953"
             ],
             [
              0.7777777777777778,
              "#fb9f3a"
             ],
             [
              0.8888888888888888,
              "#fdca26"
             ],
             [
              1,
              "#f0f921"
             ]
            ],
            "type": "heatmap"
           }
          ],
          "heatmapgl": [
           {
            "colorbar": {
             "outlinewidth": 0,
             "ticks": ""
            },
            "colorscale": [
             [
              0,
              "#0d0887"
             ],
             [
              0.1111111111111111,
              "#46039f"
             ],
             [
              0.2222222222222222,
              "#7201a8"
             ],
             [
              0.3333333333333333,
              "#9c179e"
             ],
             [
              0.4444444444444444,
              "#bd3786"
             ],
             [
              0.5555555555555556,
              "#d8576b"
             ],
             [
              0.6666666666666666,
              "#ed7953"
             ],
             [
              0.7777777777777778,
              "#fb9f3a"
             ],
             [
              0.8888888888888888,
              "#fdca26"
             ],
             [
              1,
              "#f0f921"
             ]
            ],
            "type": "heatmapgl"
           }
          ],
          "histogram": [
           {
            "marker": {
             "pattern": {
              "fillmode": "overlay",
              "size": 10,
              "solidity": 0.2
             }
            },
            "type": "histogram"
           }
          ],
          "histogram2d": [
           {
            "colorbar": {
             "outlinewidth": 0,
             "ticks": ""
            },
            "colorscale": [
             [
              0,
              "#0d0887"
             ],
             [
              0.1111111111111111,
              "#46039f"
             ],
             [
              0.2222222222222222,
              "#7201a8"
             ],
             [
              0.3333333333333333,
              "#9c179e"
             ],
             [
              0.4444444444444444,
              "#bd3786"
             ],
             [
              0.5555555555555556,
              "#d8576b"
             ],
             [
              0.6666666666666666,
              "#ed7953"
             ],
             [
              0.7777777777777778,
              "#fb9f3a"
             ],
             [
              0.8888888888888888,
              "#fdca26"
             ],
             [
              1,
              "#f0f921"
             ]
            ],
            "type": "histogram2d"
           }
          ],
          "histogram2dcontour": [
           {
            "colorbar": {
             "outlinewidth": 0,
             "ticks": ""
            },
            "colorscale": [
             [
              0,
              "#0d0887"
             ],
             [
              0.1111111111111111,
              "#46039f"
             ],
             [
              0.2222222222222222,
              "#7201a8"
             ],
             [
              0.3333333333333333,
              "#9c179e"
             ],
             [
              0.4444444444444444,
              "#bd3786"
             ],
             [
              0.5555555555555556,
              "#d8576b"
             ],
             [
              0.6666666666666666,
              "#ed7953"
             ],
             [
              0.7777777777777778,
              "#fb9f3a"
             ],
             [
              0.8888888888888888,
              "#fdca26"
             ],
             [
              1,
              "#f0f921"
             ]
            ],
            "type": "histogram2dcontour"
           }
          ],
          "mesh3d": [
           {
            "colorbar": {
             "outlinewidth": 0,
             "ticks": ""
            },
            "type": "mesh3d"
           }
          ],
          "parcoords": [
           {
            "line": {
             "colorbar": {
              "outlinewidth": 0,
              "ticks": ""
             }
            },
            "type": "parcoords"
           }
          ],
          "pie": [
           {
            "automargin": true,
            "type": "pie"
           }
          ],
          "scatter": [
           {
            "fillpattern": {
             "fillmode": "overlay",
             "size": 10,
             "solidity": 0.2
            },
            "type": "scatter"
           }
          ],
          "scatter3d": [
           {
            "line": {
             "colorbar": {
              "outlinewidth": 0,
              "ticks": ""
             }
            },
            "marker": {
             "colorbar": {
              "outlinewidth": 0,
              "ticks": ""
             }
            },
            "type": "scatter3d"
           }
          ],
          "scattercarpet": [
           {
            "marker": {
             "colorbar": {
              "outlinewidth": 0,
              "ticks": ""
             }
            },
            "type": "scattercarpet"
           }
          ],
          "scattergeo": [
           {
            "marker": {
             "colorbar": {
              "outlinewidth": 0,
              "ticks": ""
             }
            },
            "type": "scattergeo"
           }
          ],
          "scattergl": [
           {
            "marker": {
             "colorbar": {
              "outlinewidth": 0,
              "ticks": ""
             }
            },
            "type": "scattergl"
           }
          ],
          "scattermapbox": [
           {
            "marker": {
             "colorbar": {
              "outlinewidth": 0,
              "ticks": ""
             }
            },
            "type": "scattermapbox"
           }
          ],
          "scatterpolar": [
           {
            "marker": {
             "colorbar": {
              "outlinewidth": 0,
              "ticks": ""
             }
            },
            "type": "scatterpolar"
           }
          ],
          "scatterpolargl": [
           {
            "marker": {
             "colorbar": {
              "outlinewidth": 0,
              "ticks": ""
             }
            },
            "type": "scatterpolargl"
           }
          ],
          "scatterternary": [
           {
            "marker": {
             "colorbar": {
              "outlinewidth": 0,
              "ticks": ""
             }
            },
            "type": "scatterternary"
           }
          ],
          "surface": [
           {
            "colorbar": {
             "outlinewidth": 0,
             "ticks": ""
            },
            "colorscale": [
             [
              0,
              "#0d0887"
             ],
             [
              0.1111111111111111,
              "#46039f"
             ],
             [
              0.2222222222222222,
              "#7201a8"
             ],
             [
              0.3333333333333333,
              "#9c179e"
             ],
             [
              0.4444444444444444,
              "#bd3786"
             ],
             [
              0.5555555555555556,
              "#d8576b"
             ],
             [
              0.6666666666666666,
              "#ed7953"
             ],
             [
              0.7777777777777778,
              "#fb9f3a"
             ],
             [
              0.8888888888888888,
              "#fdca26"
             ],
             [
              1,
              "#f0f921"
             ]
            ],
            "type": "surface"
           }
          ],
          "table": [
           {
            "cells": {
             "fill": {
              "color": "#EBF0F8"
             },
             "line": {
              "color": "white"
             }
            },
            "header": {
             "fill": {
              "color": "#C8D4E3"
             },
             "line": {
              "color": "white"
             }
            },
            "type": "table"
           }
          ]
         },
         "layout": {
          "annotationdefaults": {
           "arrowcolor": "#2a3f5f",
           "arrowhead": 0,
           "arrowwidth": 1
          },
          "autotypenumbers": "strict",
          "coloraxis": {
           "colorbar": {
            "outlinewidth": 0,
            "ticks": ""
           }
          },
          "colorscale": {
           "diverging": [
            [
             0,
             "#8e0152"
            ],
            [
             0.1,
             "#c51b7d"
            ],
            [
             0.2,
             "#de77ae"
            ],
            [
             0.3,
             "#f1b6da"
            ],
            [
             0.4,
             "#fde0ef"
            ],
            [
             0.5,
             "#f7f7f7"
            ],
            [
             0.6,
             "#e6f5d0"
            ],
            [
             0.7,
             "#b8e186"
            ],
            [
             0.8,
             "#7fbc41"
            ],
            [
             0.9,
             "#4d9221"
            ],
            [
             1,
             "#276419"
            ]
           ],
           "sequential": [
            [
             0,
             "#0d0887"
            ],
            [
             0.1111111111111111,
             "#46039f"
            ],
            [
             0.2222222222222222,
             "#7201a8"
            ],
            [
             0.3333333333333333,
             "#9c179e"
            ],
            [
             0.4444444444444444,
             "#bd3786"
            ],
            [
             0.5555555555555556,
             "#d8576b"
            ],
            [
             0.6666666666666666,
             "#ed7953"
            ],
            [
             0.7777777777777778,
             "#fb9f3a"
            ],
            [
             0.8888888888888888,
             "#fdca26"
            ],
            [
             1,
             "#f0f921"
            ]
           ],
           "sequentialminus": [
            [
             0,
             "#0d0887"
            ],
            [
             0.1111111111111111,
             "#46039f"
            ],
            [
             0.2222222222222222,
             "#7201a8"
            ],
            [
             0.3333333333333333,
             "#9c179e"
            ],
            [
             0.4444444444444444,
             "#bd3786"
            ],
            [
             0.5555555555555556,
             "#d8576b"
            ],
            [
             0.6666666666666666,
             "#ed7953"
            ],
            [
             0.7777777777777778,
             "#fb9f3a"
            ],
            [
             0.8888888888888888,
             "#fdca26"
            ],
            [
             1,
             "#f0f921"
            ]
           ]
          },
          "colorway": [
           "#636efa",
           "#EF553B",
           "#00cc96",
           "#ab63fa",
           "#FFA15A",
           "#19d3f3",
           "#FF6692",
           "#B6E880",
           "#FF97FF",
           "#FECB52"
          ],
          "font": {
           "color": "#2a3f5f"
          },
          "geo": {
           "bgcolor": "white",
           "lakecolor": "white",
           "landcolor": "#E5ECF6",
           "showlakes": true,
           "showland": true,
           "subunitcolor": "white"
          },
          "hoverlabel": {
           "align": "left"
          },
          "hovermode": "closest",
          "mapbox": {
           "style": "light"
          },
          "paper_bgcolor": "white",
          "plot_bgcolor": "#E5ECF6",
          "polar": {
           "angularaxis": {
            "gridcolor": "white",
            "linecolor": "white",
            "ticks": ""
           },
           "bgcolor": "#E5ECF6",
           "radialaxis": {
            "gridcolor": "white",
            "linecolor": "white",
            "ticks": ""
           }
          },
          "scene": {
           "xaxis": {
            "backgroundcolor": "#E5ECF6",
            "gridcolor": "white",
            "gridwidth": 2,
            "linecolor": "white",
            "showbackground": true,
            "ticks": "",
            "zerolinecolor": "white"
           },
           "yaxis": {
            "backgroundcolor": "#E5ECF6",
            "gridcolor": "white",
            "gridwidth": 2,
            "linecolor": "white",
            "showbackground": true,
            "ticks": "",
            "zerolinecolor": "white"
           },
           "zaxis": {
            "backgroundcolor": "#E5ECF6",
            "gridcolor": "white",
            "gridwidth": 2,
            "linecolor": "white",
            "showbackground": true,
            "ticks": "",
            "zerolinecolor": "white"
           }
          },
          "shapedefaults": {
           "line": {
            "color": "#2a3f5f"
           }
          },
          "ternary": {
           "aaxis": {
            "gridcolor": "white",
            "linecolor": "white",
            "ticks": ""
           },
           "baxis": {
            "gridcolor": "white",
            "linecolor": "white",
            "ticks": ""
           },
           "bgcolor": "#E5ECF6",
           "caxis": {
            "gridcolor": "white",
            "linecolor": "white",
            "ticks": ""
           }
          },
          "title": {
           "x": 0.05
          },
          "xaxis": {
           "automargin": true,
           "gridcolor": "white",
           "linecolor": "white",
           "ticks": "",
           "title": {
            "standoff": 15
           },
           "zerolinecolor": "white",
           "zerolinewidth": 2
          },
          "yaxis": {
           "automargin": true,
           "gridcolor": "white",
           "linecolor": "white",
           "ticks": "",
           "title": {
            "standoff": 15
           },
           "zerolinecolor": "white",
           "zerolinewidth": 2
          }
         }
        }
       }
      },
      "text/html": [
       "<div>                            <div id=\"10b40b59-5367-4b7b-b8a1-e78c11eb2f8d\" class=\"plotly-graph-div\" style=\"height:525px; width:100%;\"></div>            <script type=\"text/javascript\">                require([\"plotly\"], function(Plotly) {                    window.PLOTLYENV=window.PLOTLYENV || {};                                    if (document.getElementById(\"10b40b59-5367-4b7b-b8a1-e78c11eb2f8d\")) {                    Plotly.newPlot(                        \"10b40b59-5367-4b7b-b8a1-e78c11eb2f8d\",                        [{\"line\":{\"color\":\"royalblue\",\"width\":3},\"y\":[2.8402225971221924,2.692753314971924,2.706059104517886,2.65184667293842,2.547054409415801,2.533102836106953,2.4576079550155336,2.407714674191093,2.361989355442962,2.335808350716311,2.33807205528613,2.318942847285484,2.312744839577019,2.32919182548479,2.310606569620036,2.290740663949238,2.2858149649879036,2.270536074311666,2.2699452816552212,2.2659648328676867,2.2566682714084707,2.2570798561640655,2.268994529784638,2.2822298651901454,2.267903134490528,2.260607795210801,2.2540924702335325,2.2865558403074018,2.281868469958617,2.2809429996261796,2.2789288843549,2.2678048409063574,2.2512859908489475,2.267279694909797,2.2488161267761955,2.256819883800605,2.245637757687744,2.255940110335346,2.2297984927858834,2.2576358720977865,2.248585886232116,2.242103302530858,2.2377007563076288,2.229742722843439,2.222714236715078,2.23514687451236,2.2256430746774996,2.228661243241491,2.260407251937011,2.2401032731100834,2.2178036560490972,2.222551225948679,2.212394078123053,2.232365422485154,2.2202502442956655,2.207893924814794,2.2109145832742265,2.19602336570099,2.2319534757713235,2.238623442847364,2.212973397704052,2.204905140222404,2.1924316802429766,2.186470185306809,2.1707916488826653,2.154424841574814,2.196013328348323,2.1791350821089064,2.193446158000593,2.18464255242133],\"type\":\"scatter\"}],                        {\"template\":{\"data\":{\"histogram2dcontour\":[{\"type\":\"histogram2dcontour\",\"colorbar\":{\"outlinewidth\":0,\"ticks\":\"\"},\"colorscale\":[[0.0,\"#0d0887\"],[0.1111111111111111,\"#46039f\"],[0.2222222222222222,\"#7201a8\"],[0.3333333333333333,\"#9c179e\"],[0.4444444444444444,\"#bd3786\"],[0.5555555555555556,\"#d8576b\"],[0.6666666666666666,\"#ed7953\"],[0.7777777777777778,\"#fb9f3a\"],[0.8888888888888888,\"#fdca26\"],[1.0,\"#f0f921\"]]}],\"choropleth\":[{\"type\":\"choropleth\",\"colorbar\":{\"outlinewidth\":0,\"ticks\":\"\"}}],\"histogram2d\":[{\"type\":\"histogram2d\",\"colorbar\":{\"outlinewidth\":0,\"ticks\":\"\"},\"colorscale\":[[0.0,\"#0d0887\"],[0.1111111111111111,\"#46039f\"],[0.2222222222222222,\"#7201a8\"],[0.3333333333333333,\"#9c179e\"],[0.4444444444444444,\"#bd3786\"],[0.5555555555555556,\"#d8576b\"],[0.6666666666666666,\"#ed7953\"],[0.7777777777777778,\"#fb9f3a\"],[0.8888888888888888,\"#fdca26\"],[1.0,\"#f0f921\"]]}],\"heatmap\":[{\"type\":\"heatmap\",\"colorbar\":{\"outlinewidth\":0,\"ticks\":\"\"},\"colorscale\":[[0.0,\"#0d0887\"],[0.1111111111111111,\"#46039f\"],[0.2222222222222222,\"#7201a8\"],[0.3333333333333333,\"#9c179e\"],[0.4444444444444444,\"#bd3786\"],[0.5555555555555556,\"#d8576b\"],[0.6666666666666666,\"#ed7953\"],[0.7777777777777778,\"#fb9f3a\"],[0.8888888888888888,\"#fdca26\"],[1.0,\"#f0f921\"]]}],\"heatmapgl\":[{\"type\":\"heatmapgl\",\"colorbar\":{\"outlinewidth\":0,\"ticks\":\"\"},\"colorscale\":[[0.0,\"#0d0887\"],[0.1111111111111111,\"#46039f\"],[0.2222222222222222,\"#7201a8\"],[0.3333333333333333,\"#9c179e\"],[0.4444444444444444,\"#bd3786\"],[0.5555555555555556,\"#d8576b\"],[0.6666666666666666,\"#ed7953\"],[0.7777777777777778,\"#fb9f3a\"],[0.8888888888888888,\"#fdca26\"],[1.0,\"#f0f921\"]]}],\"contourcarpet\":[{\"type\":\"contourcarpet\",\"colorbar\":{\"outlinewidth\":0,\"ticks\":\"\"}}],\"contour\":[{\"type\":\"contour\",\"colorbar\":{\"outlinewidth\":0,\"ticks\":\"\"},\"colorscale\":[[0.0,\"#0d0887\"],[0.1111111111111111,\"#46039f\"],[0.2222222222222222,\"#7201a8\"],[0.3333333333333333,\"#9c179e\"],[0.4444444444444444,\"#bd3786\"],[0.5555555555555556,\"#d8576b\"],[0.6666666666666666,\"#ed7953\"],[0.7777777777777778,\"#fb9f3a\"],[0.8888888888888888,\"#fdca26\"],[1.0,\"#f0f921\"]]}],\"surface\":[{\"type\":\"surface\",\"colorbar\":{\"outlinewidth\":0,\"ticks\":\"\"},\"colorscale\":[[0.0,\"#0d0887\"],[0.1111111111111111,\"#46039f\"],[0.2222222222222222,\"#7201a8\"],[0.3333333333333333,\"#9c179e\"],[0.4444444444444444,\"#bd3786\"],[0.5555555555555556,\"#d8576b\"],[0.6666666666666666,\"#ed7953\"],[0.7777777777777778,\"#fb9f3a\"],[0.8888888888888888,\"#fdca26\"],[1.0,\"#f0f921\"]]}],\"mesh3d\":[{\"type\":\"mesh3d\",\"colorbar\":{\"outlinewidth\":0,\"ticks\":\"\"}}],\"scatter\":[{\"fillpattern\":{\"fillmode\":\"overlay\",\"size\":10,\"solidity\":0.2},\"type\":\"scatter\"}],\"parcoords\":[{\"type\":\"parcoords\",\"line\":{\"colorbar\":{\"outlinewidth\":0,\"ticks\":\"\"}}}],\"scatterpolargl\":[{\"type\":\"scatterpolargl\",\"marker\":{\"colorbar\":{\"outlinewidth\":0,\"ticks\":\"\"}}}],\"bar\":[{\"error_x\":{\"color\":\"#2a3f5f\"},\"error_y\":{\"color\":\"#2a3f5f\"},\"marker\":{\"line\":{\"color\":\"#E5ECF6\",\"width\":0.5},\"pattern\":{\"fillmode\":\"overlay\",\"size\":10,\"solidity\":0.2}},\"type\":\"bar\"}],\"scattergeo\":[{\"type\":\"scattergeo\",\"marker\":{\"colorbar\":{\"outlinewidth\":0,\"ticks\":\"\"}}}],\"scatterpolar\":[{\"type\":\"scatterpolar\",\"marker\":{\"colorbar\":{\"outlinewidth\":0,\"ticks\":\"\"}}}],\"histogram\":[{\"marker\":{\"pattern\":{\"fillmode\":\"overlay\",\"size\":10,\"solidity\":0.2}},\"type\":\"histogram\"}],\"scattergl\":[{\"type\":\"scattergl\",\"marker\":{\"colorbar\":{\"outlinewidth\":0,\"ticks\":\"\"}}}],\"scatter3d\":[{\"type\":\"scatter3d\",\"line\":{\"colorbar\":{\"outlinewidth\":0,\"ticks\":\"\"}},\"marker\":{\"colorbar\":{\"outlinewidth\":0,\"ticks\":\"\"}}}],\"scattermapbox\":[{\"type\":\"scattermapbox\",\"marker\":{\"colorbar\":{\"outlinewidth\":0,\"ticks\":\"\"}}}],\"scatterternary\":[{\"type\":\"scatterternary\",\"marker\":{\"colorbar\":{\"outlinewidth\":0,\"ticks\":\"\"}}}],\"scattercarpet\":[{\"type\":\"scattercarpet\",\"marker\":{\"colorbar\":{\"outlinewidth\":0,\"ticks\":\"\"}}}],\"carpet\":[{\"aaxis\":{\"endlinecolor\":\"#2a3f5f\",\"gridcolor\":\"white\",\"linecolor\":\"white\",\"minorgridcolor\":\"white\",\"startlinecolor\":\"#2a3f5f\"},\"baxis\":{\"endlinecolor\":\"#2a3f5f\",\"gridcolor\":\"white\",\"linecolor\":\"white\",\"minorgridcolor\":\"white\",\"startlinecolor\":\"#2a3f5f\"},\"type\":\"carpet\"}],\"table\":[{\"cells\":{\"fill\":{\"color\":\"#EBF0F8\"},\"line\":{\"color\":\"white\"}},\"header\":{\"fill\":{\"color\":\"#C8D4E3\"},\"line\":{\"color\":\"white\"}},\"type\":\"table\"}],\"barpolar\":[{\"marker\":{\"line\":{\"color\":\"#E5ECF6\",\"width\":0.5},\"pattern\":{\"fillmode\":\"overlay\",\"size\":10,\"solidity\":0.2}},\"type\":\"barpolar\"}],\"pie\":[{\"automargin\":true,\"type\":\"pie\"}]},\"layout\":{\"autotypenumbers\":\"strict\",\"colorway\":[\"#636efa\",\"#EF553B\",\"#00cc96\",\"#ab63fa\",\"#FFA15A\",\"#19d3f3\",\"#FF6692\",\"#B6E880\",\"#FF97FF\",\"#FECB52\"],\"font\":{\"color\":\"#2a3f5f\"},\"hovermode\":\"closest\",\"hoverlabel\":{\"align\":\"left\"},\"paper_bgcolor\":\"white\",\"plot_bgcolor\":\"#E5ECF6\",\"polar\":{\"bgcolor\":\"#E5ECF6\",\"angularaxis\":{\"gridcolor\":\"white\",\"linecolor\":\"white\",\"ticks\":\"\"},\"radialaxis\":{\"gridcolor\":\"white\",\"linecolor\":\"white\",\"ticks\":\"\"}},\"ternary\":{\"bgcolor\":\"#E5ECF6\",\"aaxis\":{\"gridcolor\":\"white\",\"linecolor\":\"white\",\"ticks\":\"\"},\"baxis\":{\"gridcolor\":\"white\",\"linecolor\":\"white\",\"ticks\":\"\"},\"caxis\":{\"gridcolor\":\"white\",\"linecolor\":\"white\",\"ticks\":\"\"}},\"coloraxis\":{\"colorbar\":{\"outlinewidth\":0,\"ticks\":\"\"}},\"colorscale\":{\"sequential\":[[0.0,\"#0d0887\"],[0.1111111111111111,\"#46039f\"],[0.2222222222222222,\"#7201a8\"],[0.3333333333333333,\"#9c179e\"],[0.4444444444444444,\"#bd3786\"],[0.5555555555555556,\"#d8576b\"],[0.6666666666666666,\"#ed7953\"],[0.7777777777777778,\"#fb9f3a\"],[0.8888888888888888,\"#fdca26\"],[1.0,\"#f0f921\"]],\"sequentialminus\":[[0.0,\"#0d0887\"],[0.1111111111111111,\"#46039f\"],[0.2222222222222222,\"#7201a8\"],[0.3333333333333333,\"#9c179e\"],[0.4444444444444444,\"#bd3786\"],[0.5555555555555556,\"#d8576b\"],[0.6666666666666666,\"#ed7953\"],[0.7777777777777778,\"#fb9f3a\"],[0.8888888888888888,\"#fdca26\"],[1.0,\"#f0f921\"]],\"diverging\":[[0,\"#8e0152\"],[0.1,\"#c51b7d\"],[0.2,\"#de77ae\"],[0.3,\"#f1b6da\"],[0.4,\"#fde0ef\"],[0.5,\"#f7f7f7\"],[0.6,\"#e6f5d0\"],[0.7,\"#b8e186\"],[0.8,\"#7fbc41\"],[0.9,\"#4d9221\"],[1,\"#276419\"]]},\"xaxis\":{\"gridcolor\":\"white\",\"linecolor\":\"white\",\"ticks\":\"\",\"title\":{\"standoff\":15},\"zerolinecolor\":\"white\",\"automargin\":true,\"zerolinewidth\":2},\"yaxis\":{\"gridcolor\":\"white\",\"linecolor\":\"white\",\"ticks\":\"\",\"title\":{\"standoff\":15},\"zerolinecolor\":\"white\",\"automargin\":true,\"zerolinewidth\":2},\"scene\":{\"xaxis\":{\"backgroundcolor\":\"#E5ECF6\",\"gridcolor\":\"white\",\"linecolor\":\"white\",\"showbackground\":true,\"ticks\":\"\",\"zerolinecolor\":\"white\",\"gridwidth\":2},\"yaxis\":{\"backgroundcolor\":\"#E5ECF6\",\"gridcolor\":\"white\",\"linecolor\":\"white\",\"showbackground\":true,\"ticks\":\"\",\"zerolinecolor\":\"white\",\"gridwidth\":2},\"zaxis\":{\"backgroundcolor\":\"#E5ECF6\",\"gridcolor\":\"white\",\"linecolor\":\"white\",\"showbackground\":true,\"ticks\":\"\",\"zerolinecolor\":\"white\",\"gridwidth\":2}},\"shapedefaults\":{\"line\":{\"color\":\"#2a3f5f\"}},\"annotationdefaults\":{\"arrowcolor\":\"#2a3f5f\",\"arrowhead\":0,\"arrowwidth\":1},\"geo\":{\"bgcolor\":\"white\",\"landcolor\":\"#E5ECF6\",\"subunitcolor\":\"white\",\"showland\":true,\"showlakes\":true,\"lakecolor\":\"white\"},\"title\":{\"x\":0.05},\"mapbox\":{\"style\":\"light\"}}}},                        {\"responsive\": true}                    ).then(function(){\n",
       "                            \n",
       "var gd = document.getElementById('10b40b59-5367-4b7b-b8a1-e78c11eb2f8d');\n",
       "var x = new MutationObserver(function (mutations, observer) {{\n",
       "        var display = window.getComputedStyle(gd).display;\n",
       "        if (!display || display === 'none') {{\n",
       "            console.log([gd, 'removed!']);\n",
       "            Plotly.purge(gd);\n",
       "            observer.disconnect();\n",
       "        }}\n",
       "}});\n",
       "\n",
       "// Listen for the removal of the full notebook cells\n",
       "var notebookContainer = gd.closest('#notebook-container');\n",
       "if (notebookContainer) {{\n",
       "    x.observe(notebookContainer, {childList: true});\n",
       "}}\n",
       "\n",
       "// Listen for the clearing of the current output cell\n",
       "var outputEl = gd.closest('.output');\n",
       "if (outputEl) {{\n",
       "    x.observe(outputEl, {childList: true});\n",
       "}}\n",
       "\n",
       "                        })                };                });            </script>        </div>"
      ]
     },
     "metadata": {},
     "output_type": "display_data"
    }
   ],
   "source": [
    "emv = pd.DataFrame({\"emv\": history.history['val_mae'][10:]}).ewm(com=2).mean()\n",
    "\n",
    "fig = go.Figure()\n",
    "fig.add_trace(go.Scatter(y=emv[\"emv\"], \n",
    "                         line=dict(color='royalblue', width=3)))\n",
    "fig.show()"
   ]
  }
 ],
 "metadata": {
  "kernelspec": {
   "display_name": "deepl-cpu",
   "language": "python",
   "name": "python3"
  },
  "language_info": {
   "codemirror_mode": {
    "name": "ipython",
    "version": 3
   },
   "file_extension": ".py",
   "mimetype": "text/x-python",
   "name": "python",
   "nbconvert_exporter": "python",
   "pygments_lexer": "ipython3",
   "version": "3.9.13"
  },
  "orig_nbformat": 4,
  "vscode": {
   "interpreter": {
    "hash": "db30ed31b609ec6dba2973d4964665615fa673008b8f2439bf875c98f7bd432e"
   }
  }
 },
 "nbformat": 4,
 "nbformat_minor": 2
}
